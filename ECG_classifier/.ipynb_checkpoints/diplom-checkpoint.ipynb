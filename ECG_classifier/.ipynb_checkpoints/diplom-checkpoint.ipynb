{
 "cells": [
  {
   "cell_type": "code",
   "execution_count": 61,
   "metadata": {},
   "outputs": [],
   "source": [
    "import numpy as np\n",
    "import matplotlib.pyplot as plt\n",
    "import scipy.io\n",
    "from scipy.integrate import simps\n",
    "import pandas as pd\n",
    "from scipy import signal\n",
    "%matplotlib inline"
   ]
  },
  {
   "cell_type": "markdown",
   "metadata": {},
   "source": [
    "### Загрузка сигналов"
   ]
  },
  {
   "cell_type": "code",
   "execution_count": 2,
   "metadata": {},
   "outputs": [],
   "source": [
    "def create_ECG(filename_ecg):\n",
    "    ECG = scipy.io.loadmat(filename_ecg) #загрузка .mat-файла\n",
    "    gain = 200\n",
    "    signal_II = ECG['val'][0,:]/gain\n",
    "    return signal_II"
   ]
  },
  {
   "cell_type": "code",
   "execution_count": 3,
   "metadata": {},
   "outputs": [],
   "source": [
    "Signal = create_ECG('116m.mat')"
   ]
  },
  {
   "cell_type": "code",
   "execution_count": 4,
   "metadata": {},
   "outputs": [
    {
     "data": {
      "text/plain": [
       "[-0.32,\n",
       " -0.32,\n",
       " -0.32,\n",
       " -0.32,\n",
       " -0.32,\n",
       " -0.32,\n",
       " -0.32,\n",
       " -0.32,\n",
       " -0.025,\n",
       " 0.265,\n",
       " 0.58,\n",
       " 0.925,\n",
       " 1.31,\n",
       " 1.67,\n",
       " 2.01,\n",
       " 2.24,\n",
       " 2.315,\n",
       " 2.185,\n",
       " 1.77,\n",
       " 1.13,\n",
       " 0.49,\n",
       " -0.15,\n",
       " -0.79,\n",
       " -1.43,\n",
       " -1.64,\n",
       " -1.385,\n",
       " -1.105,\n",
       " -0.92,\n",
       " -0.855,\n",
       " -0.9,\n",
       " -0.995,\n",
       " -1.09,\n",
       " -1.17,\n",
       " -1.2,\n",
       " -1.18,\n",
       " -1.185,\n",
       " -1.155,\n",
       " -1.145,\n",
       " -1.125,\n",
       " -1.135,\n",
       " -1.155,\n",
       " -1.165,\n",
       " -1.175,\n",
       " -1.185,\n",
       " -1.185,\n",
       " -1.185,\n",
       " -1.145,\n",
       " -1.135,\n",
       " -1.12,\n",
       " -1.1,\n",
       " -1.075,\n",
       " -1.09,\n",
       " -1.1,\n",
       " -1.105,\n",
       " -1.11,\n",
       " -1.11,\n",
       " -1.115,\n",
       " -1.11,\n",
       " -1.075,\n",
       " -1.08,\n",
       " -1.05,\n",
       " -1.035,\n",
       " -1.035,\n",
       " -1.025,\n",
       " -1.02,\n",
       " -1.01,\n",
       " -1.0,\n",
       " -1.0,\n",
       " -0.98,\n",
       " -0.96,\n",
       " -0.935,\n",
       " -0.92,\n",
       " -0.895,\n",
       " -0.885,\n",
       " -0.895,\n",
       " -0.865,\n",
       " -0.84,\n",
       " -0.83,\n",
       " -0.82,\n",
       " -0.81,\n",
       " -0.775,\n",
       " -0.735,\n",
       " -0.695,\n",
       " -0.655,\n",
       " -0.61,\n",
       " -0.575,\n",
       " -0.555,\n",
       " -0.515,\n",
       " -0.515,\n",
       " -0.49,\n",
       " -0.485,\n",
       " -0.47,\n",
       " -0.47,\n",
       " -0.445,\n",
       " -0.425,\n",
       " -0.395,\n",
       " -0.355,\n",
       " -0.34,\n",
       " -0.335,\n",
       " -0.34,\n",
       " -0.35,\n",
       " -0.375,\n",
       " -0.39,\n",
       " -0.415,\n",
       " -0.44,\n",
       " -0.48,\n",
       " -0.495,\n",
       " -0.53,\n",
       " -0.565,\n",
       " -0.605,\n",
       " -0.66,\n",
       " -0.7,\n",
       " -0.74,\n",
       " -0.8,\n",
       " -0.835,\n",
       " -0.895,\n",
       " -0.945,\n",
       " -0.99,\n",
       " -1.02,\n",
       " -1.05,\n",
       " -1.06,\n",
       " -1.09,\n",
       " -1.12,\n",
       " -1.12,\n",
       " -1.145,\n",
       " -1.17,\n",
       " -1.205,\n",
       " -1.255,\n",
       " -1.26,\n",
       " -1.26,\n",
       " -1.245,\n",
       " -1.225,\n",
       " -1.215,\n",
       " -1.215,\n",
       " -1.23,\n",
       " -1.24,\n",
       " -1.245,\n",
       " -1.26,\n",
       " -1.265,\n",
       " -1.275,\n",
       " -1.27,\n",
       " -1.28,\n",
       " -1.26,\n",
       " -1.26,\n",
       " -1.235,\n",
       " -1.24,\n",
       " -1.24,\n",
       " -1.235,\n",
       " -1.245,\n",
       " -1.245,\n",
       " -1.25,\n",
       " -1.27,\n",
       " -1.265,\n",
       " -1.245,\n",
       " -1.23,\n",
       " -1.21,\n",
       " -1.205,\n",
       " -1.215,\n",
       " -1.23,\n",
       " -1.235,\n",
       " -1.25,\n",
       " -1.265,\n",
       " -1.265,\n",
       " -1.27,\n",
       " -1.27,\n",
       " -1.265,\n",
       " -1.25,\n",
       " -1.24,\n",
       " -1.225,\n",
       " -1.235,\n",
       " -1.245,\n",
       " -1.26,\n",
       " -1.28,\n",
       " -1.3,\n",
       " -1.3,\n",
       " -1.305,\n",
       " -1.305,\n",
       " -1.285,\n",
       " -1.29,\n",
       " -1.295,\n",
       " -1.295,\n",
       " -1.3,\n",
       " -1.305,\n",
       " -1.31,\n",
       " -1.325,\n",
       " -1.315,\n",
       " -1.34,\n",
       " -1.34,\n",
       " -1.345,\n",
       " -1.325,\n",
       " -1.33,\n",
       " -1.315,\n",
       " -1.305,\n",
       " -1.295,\n",
       " -1.305,\n",
       " -1.3,\n",
       " -1.305,\n",
       " -1.32,\n",
       " -1.335,\n",
       " -1.335,\n",
       " -1.36,\n",
       " -1.355,\n",
       " -1.35,\n",
       " -1.355,\n",
       " -1.34,\n",
       " -1.345,\n",
       " -1.35,\n",
       " -1.375,\n",
       " -1.385,\n",
       " -1.385,\n",
       " -1.365,\n",
       " -1.365,\n",
       " -1.37,\n",
       " -1.36,\n",
       " -1.345,\n",
       " -1.325,\n",
       " -1.305,\n",
       " -1.27,\n",
       " -1.27,\n",
       " -1.265,\n",
       " -1.275,\n",
       " -1.305,\n",
       " -1.325,\n",
       " -1.33,\n",
       " -1.325,\n",
       " -1.3,\n",
       " -1.27,\n",
       " -1.255,\n",
       " -1.24,\n",
       " -1.235,\n",
       " -1.21,\n",
       " -1.195,\n",
       " -1.195,\n",
       " -1.2,\n",
       " -1.205,\n",
       " -1.2,\n",
       " -1.2,\n",
       " -1.205,\n",
       " -1.215,\n",
       " -1.21,\n",
       " -1.215,\n",
       " -1.23,\n",
       " -1.245,\n",
       " -1.26,\n",
       " -1.28,\n",
       " -1.3,\n",
       " -1.31,\n",
       " -1.35,\n",
       " -1.375,\n",
       " -1.385,\n",
       " -1.4,\n",
       " -1.4,\n",
       " -1.4,\n",
       " -1.4,\n",
       " -1.39,\n",
       " -1.375,\n",
       " -1.385,\n",
       " -1.38,\n",
       " -1.39,\n",
       " -1.41,\n",
       " -1.425,\n",
       " -1.43,\n",
       " -1.42,\n",
       " -1.42,\n",
       " -1.4,\n",
       " -1.385,\n",
       " -1.395,\n",
       " -1.395,\n",
       " -1.395,\n",
       " -1.375,\n",
       " -1.34,\n",
       " -1.29,\n",
       " -1.205,\n",
       " -1.045,\n",
       " -0.87,\n",
       " -0.625,\n",
       " -0.38,\n",
       " -0.105,\n",
       " 0.135,\n",
       " 0.395,\n",
       " 0.665,\n",
       " 0.975,\n",
       " 1.255,\n",
       " 1.43,\n",
       " 1.45,\n",
       " 1.205,\n",
       " 0.665,\n",
       " 0.025,\n",
       " -0.615,\n",
       " -1.255,\n",
       " -1.895,\n",
       " -2.07,\n",
       " -1.9,\n",
       " -1.64,\n",
       " -1.39,\n",
       " -1.235,\n",
       " -1.185,\n",
       " -1.2,\n",
       " -1.24,\n",
       " -1.285,\n",
       " -1.32,\n",
       " -1.35,\n",
       " -1.36,\n",
       " -1.36,\n",
       " -1.365,\n",
       " -1.365,\n",
       " -1.365,\n",
       " -1.395,\n",
       " -1.395,\n",
       " -1.38,\n",
       " -1.38,\n",
       " -1.365,\n",
       " -1.335,\n",
       " -1.305,\n",
       " -1.29,\n",
       " -1.285,\n",
       " -1.295,\n",
       " -1.3,\n",
       " -1.29,\n",
       " -1.29,\n",
       " -1.295,\n",
       " -1.275,\n",
       " -1.26,\n",
       " -1.235,\n",
       " -1.225,\n",
       " -1.225,\n",
       " -1.215,\n",
       " -1.21,\n",
       " -1.23,\n",
       " -1.215,\n",
       " -1.195,\n",
       " -1.19,\n",
       " -1.18,\n",
       " -1.155,\n",
       " -1.135,\n",
       " -1.1,\n",
       " -1.075,\n",
       " -1.065,\n",
       " -1.045,\n",
       " -1.035,\n",
       " -1.04,\n",
       " -1.045,\n",
       " -1.025,\n",
       " -1.025,\n",
       " -1.015,\n",
       " -0.98,\n",
       " -0.945,\n",
       " -0.925,\n",
       " -0.875,\n",
       " -0.855,\n",
       " -0.83,\n",
       " -0.81,\n",
       " -0.77,\n",
       " -0.75,\n",
       " -0.73,\n",
       " -0.755,\n",
       " -0.7,\n",
       " -0.705,\n",
       " -0.685,\n",
       " -0.66,\n",
       " -0.635,\n",
       " -0.61,\n",
       " -0.6,\n",
       " -0.6,\n",
       " -0.6,\n",
       " -0.6,\n",
       " -0.605,\n",
       " -0.62,\n",
       " -0.615,\n",
       " -0.64,\n",
       " -0.64,\n",
       " -0.65,\n",
       " -0.665,\n",
       " -0.7,\n",
       " -0.75,\n",
       " -0.77,\n",
       " -0.83,\n",
       " -0.885,\n",
       " -0.925,\n",
       " -0.975,\n",
       " -0.995,\n",
       " -1.01,\n",
       " -1.055,\n",
       " -1.065,\n",
       " -1.07,\n",
       " -1.08,\n",
       " -1.115,\n",
       " -1.13,\n",
       " -1.155,\n",
       " -1.18,\n",
       " -1.21,\n",
       " -1.235,\n",
       " -1.24,\n",
       " -1.23,\n",
       " -1.225,\n",
       " -1.22,\n",
       " -1.215,\n",
       " -1.22,\n",
       " -1.21,\n",
       " -1.23,\n",
       " -1.235,\n",
       " -1.245,\n",
       " -1.25,\n",
       " -1.25,\n",
       " -1.255,\n",
       " -1.25,\n",
       " -1.24,\n",
       " -1.23,\n",
       " -1.215,\n",
       " -1.2,\n",
       " -1.205,\n",
       " -1.2,\n",
       " -1.215,\n",
       " -1.22,\n",
       " -1.19,\n",
       " -1.2,\n",
       " -1.19,\n",
       " -1.185,\n",
       " -1.165,\n",
       " -1.15,\n",
       " -1.15,\n",
       " -1.14,\n",
       " -1.145,\n",
       " -1.145,\n",
       " -1.155,\n",
       " -1.165,\n",
       " -1.155,\n",
       " -1.15,\n",
       " -1.15,\n",
       " -1.15,\n",
       " -1.16,\n",
       " -1.16,\n",
       " -1.155,\n",
       " -1.145,\n",
       " -1.14,\n",
       " -1.12,\n",
       " -1.135,\n",
       " -1.135,\n",
       " -1.135,\n",
       " -1.165,\n",
       " -1.16,\n",
       " -1.15,\n",
       " -1.145,\n",
       " -1.145,\n",
       " -1.135,\n",
       " -1.14,\n",
       " -1.175,\n",
       " -1.17,\n",
       " -1.185,\n",
       " -1.195,\n",
       " -1.19,\n",
       " -1.19,\n",
       " -1.21,\n",
       " -1.205,\n",
       " -1.18,\n",
       " -1.175,\n",
       " -1.16,\n",
       " -1.17,\n",
       " -1.175,\n",
       " -1.185,\n",
       " -1.175,\n",
       " -1.185,\n",
       " -1.195,\n",
       " -1.2,\n",
       " -1.2,\n",
       " -1.205,\n",
       " -1.21,\n",
       " -1.21,\n",
       " -1.175,\n",
       " -1.175,\n",
       " -1.165,\n",
       " -1.15,\n",
       " -1.165,\n",
       " -1.19,\n",
       " -1.205,\n",
       " -1.235,\n",
       " -1.24,\n",
       " -1.22,\n",
       " -1.205,\n",
       " -1.2,\n",
       " -1.19,\n",
       " -1.205,\n",
       " -1.195,\n",
       " -1.2,\n",
       " -1.225,\n",
       " -1.205,\n",
       " -1.215,\n",
       " -1.21,\n",
       " -1.205,\n",
       " -1.2,\n",
       " -1.16,\n",
       " -1.14,\n",
       " -1.125,\n",
       " -1.12,\n",
       " -1.115,\n",
       " -1.105,\n",
       " -1.09,\n",
       " -1.09,\n",
       " -1.105,\n",
       " -1.105,\n",
       " -1.11,\n",
       " -1.115,\n",
       " -1.095,\n",
       " -1.09,\n",
       " -1.075,\n",
       " -1.05,\n",
       " -1.05,\n",
       " -1.015,\n",
       " -0.995,\n",
       " -0.985,\n",
       " -0.97,\n",
       " -0.965,\n",
       " -0.99,\n",
       " -1.005,\n",
       " -1.015,\n",
       " -0.995,\n",
       " -0.995,\n",
       " -0.985,\n",
       " -0.99,\n",
       " -1.005,\n",
       " -1.035,\n",
       " -1.065,\n",
       " -1.075,\n",
       " -1.11,\n",
       " -1.145,\n",
       " -1.155,\n",
       " -1.185,\n",
       " -1.18,\n",
       " -1.185,\n",
       " -1.2,\n",
       " -1.21,\n",
       " -1.21,\n",
       " -1.22,\n",
       " -1.205,\n",
       " -1.21,\n",
       " -1.205,\n",
       " -1.205,\n",
       " -1.2,\n",
       " -1.2,\n",
       " -1.2,\n",
       " -1.185,\n",
       " -1.175,\n",
       " -1.175,\n",
       " -1.17,\n",
       " -1.205,\n",
       " -1.23,\n",
       " -1.215,\n",
       " -1.205,\n",
       " -1.19,\n",
       " -1.135,\n",
       " -1.02,\n",
       " -0.87,\n",
       " -0.66,\n",
       " -0.36,\n",
       " -0.02,\n",
       " 0.35,\n",
       " 0.74,\n",
       " 1.13,\n",
       " 1.52,\n",
       " 1.875,\n",
       " 2.135,\n",
       " 2.315,\n",
       " 2.375,\n",
       " 2.32,\n",
       " 2.07,\n",
       " 1.565,\n",
       " 0.925,\n",
       " 0.285,\n",
       " -0.355,\n",
       " -0.995,\n",
       " -1.635,\n",
       " -1.67,\n",
       " -1.4,\n",
       " -1.105,\n",
       " -0.88,\n",
       " -0.8,\n",
       " -0.84,\n",
       " -0.915,\n",
       " -1.02,\n",
       " -1.105,\n",
       " -1.16,\n",
       " -1.16,\n",
       " -1.165,\n",
       " -1.145,\n",
       " -1.15,\n",
       " -1.135,\n",
       " -1.14,\n",
       " -1.145,\n",
       " -1.135,\n",
       " -1.125,\n",
       " -1.135,\n",
       " -1.12,\n",
       " -1.105,\n",
       " -1.1,\n",
       " -1.1,\n",
       " -1.12,\n",
       " -1.115,\n",
       " -1.1,\n",
       " -1.085,\n",
       " -1.065,\n",
       " -1.06,\n",
       " -1.04,\n",
       " -1.04,\n",
       " -1.04,\n",
       " -1.04,\n",
       " -1.03,\n",
       " -1.04,\n",
       " -1.04,\n",
       " -1.025,\n",
       " -1.02,\n",
       " -1.005,\n",
       " -1.0,\n",
       " -0.975,\n",
       " -0.95,\n",
       " -0.955,\n",
       " -0.93,\n",
       " -0.92,\n",
       " -0.915,\n",
       " -0.895,\n",
       " -0.875,\n",
       " -0.86,\n",
       " -0.855,\n",
       " -0.84,\n",
       " -0.825,\n",
       " -0.79,\n",
       " -0.77,\n",
       " -0.72,\n",
       " -0.7,\n",
       " -0.66,\n",
       " -0.66,\n",
       " -0.66,\n",
       " -0.645,\n",
       " -0.63,\n",
       " -0.605,\n",
       " -0.565,\n",
       " -0.515,\n",
       " -0.475,\n",
       " -0.415,\n",
       " -0.38,\n",
       " -0.355,\n",
       " -0.335,\n",
       " -0.33,\n",
       " -0.325,\n",
       " -0.295,\n",
       " -0.275,\n",
       " -0.25,\n",
       " -0.23,\n",
       " -0.21,\n",
       " -0.205,\n",
       " -0.19,\n",
       " -0.21,\n",
       " -0.185,\n",
       " -0.225,\n",
       " -0.225,\n",
       " -0.25,\n",
       " -0.28,\n",
       " -0.305,\n",
       " -0.35,\n",
       " -0.38,\n",
       " -0.435,\n",
       " -0.485,\n",
       " -0.535,\n",
       " -0.615,\n",
       " -0.68,\n",
       " -0.75,\n",
       " -0.815,\n",
       " -0.885,\n",
       " -0.93,\n",
       " -0.975,\n",
       " -0.99,\n",
       " -0.995,\n",
       " -1.02,\n",
       " -1.02,\n",
       " -1.02,\n",
       " -1.04,\n",
       " -1.05,\n",
       " -1.065,\n",
       " -1.09,\n",
       " -1.105,\n",
       " -1.125,\n",
       " -1.125,\n",
       " -1.14,\n",
       " -1.14,\n",
       " -1.135,\n",
       " -1.13,\n",
       " -1.11,\n",
       " -1.11,\n",
       " -1.11,\n",
       " -1.12,\n",
       " -1.145,\n",
       " -1.135,\n",
       " -1.135,\n",
       " -1.145,\n",
       " -1.13,\n",
       " -1.13,\n",
       " -1.115,\n",
       " -1.11,\n",
       " -1.1,\n",
       " -1.095,\n",
       " -1.11,\n",
       " -1.11,\n",
       " -1.11,\n",
       " -1.105,\n",
       " -1.095,\n",
       " -1.105,\n",
       " -1.11,\n",
       " -1.095,\n",
       " -1.085,\n",
       " -1.08,\n",
       " -1.065,\n",
       " -1.06,\n",
       " -1.08,\n",
       " -1.075,\n",
       " -1.09,\n",
       " -1.095,\n",
       " -1.11,\n",
       " -1.115,\n",
       " -1.105,\n",
       " -1.115,\n",
       " -1.125,\n",
       " -1.105,\n",
       " -1.095,\n",
       " -1.075,\n",
       " -1.11,\n",
       " -1.105,\n",
       " -1.115,\n",
       " -1.135,\n",
       " -1.155,\n",
       " -1.16,\n",
       " -1.155,\n",
       " -1.15,\n",
       " -1.145,\n",
       " -1.14,\n",
       " -1.12,\n",
       " -1.135,\n",
       " -1.14,\n",
       " -1.14,\n",
       " -1.16,\n",
       " -1.18,\n",
       " -1.18,\n",
       " -1.175,\n",
       " -1.185,\n",
       " -1.185,\n",
       " -1.185,\n",
       " -1.18,\n",
       " -1.175,\n",
       " -1.19,\n",
       " -1.185,\n",
       " -1.19,\n",
       " -1.185,\n",
       " -1.195,\n",
       " -1.195,\n",
       " -1.2,\n",
       " -1.195,\n",
       " -1.2,\n",
       " -1.19,\n",
       " -1.19,\n",
       " -1.19,\n",
       " -1.2,\n",
       " -1.205,\n",
       " -1.21,\n",
       " -1.21,\n",
       " -1.22,\n",
       " -1.23,\n",
       " -1.235,\n",
       " -1.225,\n",
       " -1.21,\n",
       " -1.195,\n",
       " -1.175,\n",
       " -1.135,\n",
       " -1.125,\n",
       " -1.105,\n",
       " -1.095,\n",
       " -1.115,\n",
       " -1.12,\n",
       " -1.115,\n",
       " -1.13,\n",
       " -1.11,\n",
       " -1.11,\n",
       " -1.1,\n",
       " -1.08,\n",
       " -1.065,\n",
       " -1.04,\n",
       " -1.03,\n",
       " -1.005,\n",
       " -1.01,\n",
       " -1.0,\n",
       " -1.015,\n",
       " -1.01,\n",
       " -1.0,\n",
       " -1.005,\n",
       " -1.0,\n",
       " -1.01,\n",
       " -1.01,\n",
       " -1.03,\n",
       " -1.07,\n",
       " -1.085,\n",
       " -1.09,\n",
       " -1.11,\n",
       " -1.105,\n",
       " -1.125,\n",
       " -1.16,\n",
       " -1.18,\n",
       " -1.195,\n",
       " -1.225,\n",
       " -1.23,\n",
       " -1.23,\n",
       " -1.25,\n",
       " -1.265,\n",
       " -1.275,\n",
       " -1.275,\n",
       " -1.27,\n",
       " -1.285,\n",
       " -1.29,\n",
       " -1.265,\n",
       " -1.265,\n",
       " -1.24,\n",
       " -1.225,\n",
       " -1.225,\n",
       " -1.21,\n",
       " -1.215,\n",
       " -1.225,\n",
       " -1.24,\n",
       " -1.23,\n",
       " -1.205,\n",
       " -1.165,\n",
       " -1.07,\n",
       " -0.925,\n",
       " -0.72,\n",
       " -0.415,\n",
       " -0.065,\n",
       " 0.315,\n",
       " 0.745,\n",
       " 1.175,\n",
       " 1.61,\n",
       " 1.975,\n",
       " 2.26,\n",
       " 2.435,\n",
       " 2.495,\n",
       " 2.44,\n",
       " 2.22,\n",
       " 1.79,\n",
       " 1.15,\n",
       " 0.51,\n",
       " -0.13,\n",
       " -0.77,\n",
       " -1.41,\n",
       " -1.75,\n",
       " -1.505,\n",
       " -1.2,\n",
       " -0.945,\n",
       " -0.82,\n",
       " -0.82,\n",
       " -0.89,\n",
       " -1.02,\n",
       " -1.11,\n",
       " -1.165,\n",
       " -1.185,\n",
       " -1.185,\n",
       " -1.165,\n",
       " -1.15,\n",
       " -1.135,\n",
       " -1.115,\n",
       " -1.145,\n",
       " -1.15,\n",
       " -1.165,\n",
       " -1.175,\n",
       " -1.175,\n",
       " -1.17,\n",
       " -1.165,\n",
       " -1.16,\n",
       " -1.115,\n",
       " -1.1,\n",
       " -1.11,\n",
       " -1.1,\n",
       " -1.1,\n",
       " -1.09,\n",
       " -1.05,\n",
       " -1.055,\n",
       " -1.04,\n",
       " -1.055,\n",
       " -1.05,\n",
       " -1.05,\n",
       " -1.05,\n",
       " -1.05,\n",
       " -1.03,\n",
       " -1.02,\n",
       " -1.0,\n",
       " -0.97,\n",
       " -0.95,\n",
       " -0.93,\n",
       " -0.92,\n",
       " -0.93,\n",
       " -0.925,\n",
       " -0.93,\n",
       " -0.91,\n",
       " -0.89,\n",
       " -0.865,\n",
       " -0.84,\n",
       " -0.825,\n",
       " -0.795,\n",
       " -0.77,\n",
       " -0.745,\n",
       " -0.7,\n",
       " -0.68,\n",
       " -0.675,\n",
       " -0.675,\n",
       " -0.63,\n",
       " -0.615,\n",
       " -0.58,\n",
       " -0.54,\n",
       " -0.5,\n",
       " -0.45,\n",
       " -0.4,\n",
       " -0.365,\n",
       " -0.325,\n",
       " -0.31,\n",
       " -0.305,\n",
       " -0.28,\n",
       " -0.27,\n",
       " -0.275,\n",
       " -0.255,\n",
       " -0.25,\n",
       " -0.23,\n",
       " -0.23,\n",
       " -0.225,\n",
       " -0.24,\n",
       " -0.23,\n",
       " -0.24,\n",
       " -0.275,\n",
       " -0.31,\n",
       " -0.355,\n",
       " -0.39,\n",
       " -0.445,\n",
       " -0.485,\n",
       " -0.55,\n",
       " -0.6,\n",
       " -0.65,\n",
       " -0.715,\n",
       " -0.76,\n",
       " -0.81,\n",
       " -0.88,\n",
       " -0.935,\n",
       " -0.995,\n",
       " -1.03,\n",
       " -1.065,\n",
       " -1.055,\n",
       " -1.075,\n",
       " -1.075,\n",
       " -1.09,\n",
       " -1.085,\n",
       " -1.105,\n",
       " -1.125,\n",
       " -1.125,\n",
       " -1.15,\n",
       " -1.16,\n",
       " -1.165,\n",
       " -1.165,\n",
       " -1.175,\n",
       " -1.17,\n",
       " -1.175,\n",
       " -1.175,\n",
       " -1.135,\n",
       " -1.16,\n",
       " -1.175,\n",
       " -1.175,\n",
       " -1.175,\n",
       " -1.18,\n",
       " -1.175,\n",
       " -1.16,\n",
       " -1.135,\n",
       " -1.13,\n",
       " -1.11,\n",
       " -1.1,\n",
       " -1.12,\n",
       " -1.11,\n",
       " -1.14,\n",
       " -1.15,\n",
       " -1.145,\n",
       " -1.15,\n",
       " -1.15,\n",
       " -1.16,\n",
       " -1.145,\n",
       " -1.14,\n",
       " -1.14,\n",
       " -1.145,\n",
       " -1.14,\n",
       " -1.145,\n",
       " -1.12,\n",
       " -1.135,\n",
       " -1.15,\n",
       " -1.15,\n",
       " -1.17,\n",
       " -1.155,\n",
       " -1.16,\n",
       " -1.145,\n",
       " -1.15,\n",
       " -1.145,\n",
       " -1.15,\n",
       " -1.17,\n",
       " ...]"
      ]
     },
     "execution_count": 4,
     "metadata": {},
     "output_type": "execute_result"
    }
   ],
   "source": [
    "Signal = list(Signal)\n",
    "Signal"
   ]
  },
  {
   "cell_type": "markdown",
   "metadata": {},
   "source": [
    "### Загрузка меток"
   ]
  },
  {
   "cell_type": "code",
   "execution_count": 5,
   "metadata": {},
   "outputs": [],
   "source": [
    "# Номера отсчетов R-зубца\n",
    "def create_marks(filename_marks):\n",
    "    data = pd.read_csv(filename_marks, sep=\"\\t\")\n",
    "    Marks = []\n",
    "    for i in range(len(data)):\n",
    "        mark = str(data.iloc[i])\n",
    "        Marks.append(int(mark.split()[8:9][0]))\n",
    "    return Marks"
   ]
  },
  {
   "cell_type": "code",
   "execution_count": 6,
   "metadata": {},
   "outputs": [],
   "source": [
    "# Класс сокращения\n",
    "def create_class(filename_class):\n",
    "    data = pd.read_csv(filename_class, sep=\"\\t\")\n",
    "    Class = []\n",
    "    for i in range(len(data)):\n",
    "        Class_i = str(data.iloc[i])\n",
    "        Class.append(Class_i.split()[9:10][0])\n",
    "    return Class"
   ]
  },
  {
   "cell_type": "code",
   "execution_count": 7,
   "metadata": {},
   "outputs": [],
   "source": [
    "Marks = create_marks('annotations.txt')"
   ]
  },
  {
   "cell_type": "code",
   "execution_count": 8,
   "metadata": {},
   "outputs": [],
   "source": [
    "Class = create_class('annotations.txt')"
   ]
  },
  {
   "cell_type": "code",
   "execution_count": 9,
   "metadata": {},
   "outputs": [],
   "source": [
    "# Массив номер сокращения, метка, класс\n",
    "NMC = []\n",
    "counter = 0\n",
    "\n",
    "for i in range(len(Class)):\n",
    "    if Class[i] == 'N' or Class[i] == 'V':\n",
    "        NMC.append([counter,Marks[i],Class[i]])\n",
    "    counter += 1"
   ]
  },
  {
   "cell_type": "code",
   "execution_count": 12,
   "metadata": {},
   "outputs": [],
   "source": [
    "def create_QRS(Signal, QRS_len = 100):\n",
    "    QRS = []\n",
    "    for i in range(len(NMC)):\n",
    "        QRS.append([Signal[NMC[i][1]-QRS_len : NMC[i][1]+QRS_len],NMC[i][0]])\n",
    "    return QRS"
   ]
  },
  {
   "cell_type": "code",
   "execution_count": 13,
   "metadata": {},
   "outputs": [],
   "source": [
    "QRS_1 = create_QRS(Signal, QRS_len = 130)"
   ]
  },
  {
   "cell_type": "code",
   "execution_count": 14,
   "metadata": {},
   "outputs": [
    {
     "data": {
      "text/plain": [
       "[<matplotlib.lines.Line2D at 0xc6c5b00>]"
      ]
     },
     "execution_count": 14,
     "metadata": {},
     "output_type": "execute_result"
    },
    {
     "data": {
      "image/png": "[encoded data removed]",
      "text/plain": [
       "<Figure size 432x288 with 1 Axes>"
      ]
     },
     "metadata": {
      "needs_background": "light"
     },
     "output_type": "display_data"
    }
   ],
   "source": [
    "plt.plot(QRS_1[130][0])"
   ]
  },
  {
   "cell_type": "code",
   "execution_count": 82,
   "metadata": {},
   "outputs": [
    {
     "data": {
      "image/png": "[encoded data removed]",
      "text/plain": [
       "<Figure size 432x288 with 4 Axes>"
      ]
     },
     "metadata": {
      "needs_background": "light"
     },
     "output_type": "display_data"
    }
   ],
   "source": [
    "import biosppy\n",
    "from biosppy.signals import ecg\n",
    "\n",
    "# load raw ECG signal\n",
    "signal = np.array(Signal[:10000])\n",
    "\n",
    "# process it and plot\n",
    "out = ecg.ecg(signal=signal, sampling_rate=250, show=True)\n",
    "\n",
    "#peaks =  biosppy.signals.ecg.christov_segmenter(signal=signal, sampling_rate = 360)\n",
    "#peaks"
   ]
  },
  {
   "cell_type": "code",
   "execution_count": 85,
   "metadata": {},
   "outputs": [
    {
     "data": {
      "text/plain": [
       "[<matplotlib.lines.Line2D at 0x13e02a58>]"
      ]
     },
     "execution_count": 85,
     "metadata": {},
     "output_type": "execute_result"
    },
    {
     "data": {
      "image/png": "[encoded data removed]",
      "text/plain": [
       "<Figure size 432x288 with 1 Axes>"
      ]
     },
     "metadata": {
      "needs_background": "light"
     },
     "output_type": "display_data"
    }
   ],
   "source": [
    "plt.plot(out[4][31])"
   ]
  },
  {
   "cell_type": "code",
   "execution_count": null,
   "metadata": {},
   "outputs": [],
   "source": []
  },
  {
   "cell_type": "code",
   "execution_count": null,
   "metadata": {},
   "outputs": [],
   "source": []
  },
  {
   "cell_type": "markdown",
   "metadata": {},
   "source": [
    "### КОЭФФИЦИЕНТ ФОРМЫ $FF = \\frac{\\sigma(f''(x))\\sigma(f(x))}{\\sigma(f'(x))^2}$"
   ]
  },
  {
   "cell_type": "code",
   "execution_count": 15,
   "metadata": {},
   "outputs": [],
   "source": [
    "def QRS_form_factor(Signal, plot = False):\n",
    "    #Первая производная\n",
    "    diff_I = []\n",
    "    for i in range(2,len(Signal)):\n",
    "        diff_I.append(Signal[i]-Signal[i-2])\n",
    "        \n",
    "    #Вторая производная\n",
    "    diff_II = []\n",
    "    for i in range(2,len(diff_I)):\n",
    "        diff_II.append(diff_I[i]-diff_I[i-2])\n",
    "    \n",
    "    #Коэффициент формы\n",
    "    FF = np.std(diff_II)*np.std(Signal)/(np.std(diff_I)*np.std(diff_I))\n",
    "    if plot == True:\n",
    "        plt.plot(Signal, 'g', label = 'FF = '+str(FF))\n",
    "        plt.plot(diff_I)\n",
    "        plt.plot(diff_II,'r')\n",
    "        plt.legend()\n",
    "    return FF"
   ]
  },
  {
   "cell_type": "code",
   "execution_count": 16,
   "metadata": {},
   "outputs": [],
   "source": [
    "QRS_FF = []\n",
    "for i in range(len(QRS_1)):\n",
    "    QRS_FF.append([QRS_form_factor(QRS_1[i][0]),NMC[i][0],NMC[i][1],NMC[i][2]])"
   ]
  },
  {
   "cell_type": "code",
   "execution_count": 17,
   "metadata": {},
   "outputs": [],
   "source": [
    "qrs_ff_N = []\n",
    "qrs_ff_V = []\n",
    "for i in range(len(QRS_FF)):\n",
    "    if QRS_FF[i][3] == 'N':\n",
    "        qrs_ff_N.append(QRS_FF[i][0])\n",
    "    else:\n",
    "        qrs_ff_V.append(QRS_FF[i][0])"
   ]
  },
  {
   "cell_type": "code",
   "execution_count": 18,
   "metadata": {
    "scrolled": false
   },
   "outputs": [
    {
     "data": {
      "image/png": "[encoded data removed]",
      "text/plain": [
       "<Figure size 720x432 with 1 Axes>"
      ]
     },
     "metadata": {
      "needs_background": "light"
     },
     "output_type": "display_data"
    }
   ],
   "source": [
    "plt.figure(figsize=(10, 6))\n",
    "area = (3)**2\n",
    "plt.scatter(qrs_ff_N,\n",
    "            qrs_ff_N,\n",
    "            s=area,\n",
    "            alpha=0.75,\n",
    "            color='red',\n",
    "            label='+')\n",
    "\n",
    "plt.scatter(qrs_ff_V,\n",
    "            qrs_ff_V,\n",
    "            s=area,\n",
    "            alpha=0.75,\n",
    "            color='blue',\n",
    "            label='-')\n",
    "plt.xlim(1,5)\n",
    "plt.ylim(1,5)\n",
    "plt.xlabel('FF')\n",
    "plt.ylabel('FF')\n",
    "plt.legend(loc='best');"
   ]
  },
  {
   "cell_type": "code",
   "execution_count": 19,
   "metadata": {
    "scrolled": false
   },
   "outputs": [
    {
     "data": {
      "text/plain": [
       "[[7.939158785592983, 1319],\n",
       " [3.5088110710648053, 1320],\n",
       " [4.728310477953249, 1795],\n",
       " [18.38718260101504, 1796],\n",
       " [20.248100956050425, 1797],\n",
       " [17.48235897587622, 1798],\n",
       " [11.420561951896357, 1799],\n",
       " [6.7453349012107635, 1800],\n",
       " [4.313635501614028, 1801],\n",
       " [5.128522538077165, 1846],\n",
       " [12.877489979906453, 1847],\n",
       " [22.353686175075122, 1848],\n",
       " [16.881563713013726, 1849],\n",
       " [14.783510134995929, 1850],\n",
       " [13.082910306286863, 1851],\n",
       " [10.407493194548344, 1852],\n",
       " [4.048721584765489, 1853],\n",
       " [5.280178674177245, 1866],\n",
       " [18.36414878761751, 1867],\n",
       " [8.186253290246318, 1868]]"
      ]
     },
     "execution_count": 19,
     "metadata": {},
     "output_type": "execute_result"
    }
   ],
   "source": [
    "error = []\n",
    "for i in range(len(QRS_FF)):\n",
    "    if QRS_FF[i][0] > 3.5:\n",
    "        error.append([QRS_FF[i][0],QRS_FF[i][1]])\n",
    "error"
   ]
  },
  {
   "cell_type": "code",
   "execution_count": 20,
   "metadata": {},
   "outputs": [],
   "source": [
    "def plot_error(data,num):\n",
    "    for i in range(len(data)):\n",
    "        if data[i][1] == num:\n",
    "            plt.plot(data[i][0])\n",
    "            print(i)"
   ]
  },
  {
   "cell_type": "code",
   "execution_count": 21,
   "metadata": {
    "scrolled": true
   },
   "outputs": [
    {
     "name": "stdout",
     "output_type": "stream",
     "text": [
      "1798\n"
     ]
    },
    {
     "data": {
      "image/png": "[encoded data removed]",
      "text/plain": [
       "<Figure size 432x288 with 1 Axes>"
      ]
     },
     "metadata": {
      "needs_background": "light"
     },
     "output_type": "display_data"
    }
   ],
   "source": [
    "plot_error(QRS_1,1803)"
   ]
  },
  {
   "cell_type": "code",
   "execution_count": 86,
   "metadata": {
    "scrolled": false
   },
   "outputs": [
    {
     "data": {
      "text/plain": [
       "1.8141531579079968"
      ]
     },
     "execution_count": 86,
     "metadata": {},
     "output_type": "execute_result"
    },
    {
     "data": {
      "image/png": "[encoded data removed]",
      "text/plain": [
       "<Figure size 432x288 with 1 Axes>"
      ]
     },
     "metadata": {
      "needs_background": "light"
     },
     "output_type": "display_data"
    }
   ],
   "source": [
    "QRS_form_factor(QRS_1[31][0], plot = True)"
   ]
  },
  {
   "cell_type": "markdown",
   "metadata": {},
   "source": [
    "### СПМ периодограммный метод"
   ]
  },
  {
   "cell_type": "code",
   "execution_count": 53,
   "metadata": {
    "scrolled": false
   },
   "outputs": [
    {
     "data": {
      "text/plain": [
       "<matplotlib.legend.Legend at 0x11902438>"
      ]
     },
     "execution_count": 53,
     "metadata": {},
     "output_type": "execute_result"
    },
    {
     "data": {
      "image/png": "[encoded data removed]",
      "text/plain": [
       "<Figure size 792x432 with 1 Axes>"
      ]
     },
     "metadata": {
      "needs_background": "light"
     },
     "output_type": "display_data"
    },
    {
     "data": {
      "image/png": "[encoded data removed]",
      "text/plain": [
       "<Figure size 792x432 with 1 Axes>"
      ]
     },
     "metadata": {
      "needs_background": "light"
     },
     "output_type": "display_data"
    }
   ],
   "source": [
    "num = 1788\n",
    "fs = 250.0\n",
    "N = len(QRS_1[num][0])\n",
    "time = np.arange(N) / fs\n",
    "x = QRS_1[num][0]\n",
    "\n",
    "f, Pxx_den = signal.periodogram(x, fs)\n",
    "plt.figure(figsize=(11,6))\n",
    "plt.plot(x)\n",
    "plt.figure(figsize=(11,6))\n",
    "plt.plot(f, Pxx_den, label = 'Мощность = ' + str(np.sum(Pxx_den)))\n",
    "plt.xlim([0, fs/2])\n",
    "plt.xlabel('frequency [Hz]')\n",
    "plt.ylabel('$PSD$')\n",
    "plt.grid()\n",
    "plt.legend()"
   ]
  },
  {
   "cell_type": "code",
   "execution_count": 24,
   "metadata": {},
   "outputs": [],
   "source": [
    "for i in range(len(error)):\n",
    "    for k in range(len(QRS_1)):\n",
    "        if QRS_1[k][1] == error[i][1]:\n",
    "            QRS_1.pop(k)\n",
    "            break"
   ]
  },
  {
   "cell_type": "code",
   "execution_count": 25,
   "metadata": {
    "scrolled": false
   },
   "outputs": [
    {
     "data": {
      "text/plain": [
       "2391"
      ]
     },
     "execution_count": 25,
     "metadata": {},
     "output_type": "execute_result"
    }
   ],
   "source": [
    "len(QRS_1)"
   ]
  },
  {
   "cell_type": "code",
   "execution_count": 26,
   "metadata": {},
   "outputs": [],
   "source": [
    "#*******Номера патологических сокращений*********** "
   ]
  },
  {
   "cell_type": "code",
   "execution_count": 27,
   "metadata": {
    "scrolled": true
   },
   "outputs": [
    {
     "data": {
      "text/plain": [
       "[0, 1096, 1318, 1323, 1794, 1810, 1845, 1858, 1865, 1869]"
      ]
     },
     "execution_count": 27,
     "metadata": {},
     "output_type": "execute_result"
    }
   ],
   "source": [
    "j = 0\n",
    "bad = []\n",
    "for i in Class:\n",
    "    if i != 'N' and i != 'V':\n",
    "        bad.append(j)\n",
    "    j += 1\n",
    "bad"
   ]
  },
  {
   "cell_type": "code",
   "execution_count": 28,
   "metadata": {},
   "outputs": [
    {
     "data": {
      "text/plain": [
       "(128, 131, 195, 204, 207, 273, 347, 350, 352, 382)"
      ]
     },
     "execution_count": 28,
     "metadata": {},
     "output_type": "execute_result"
    }
   ],
   "source": [
    "128,131,195,204,207,273,347,350,352,382,"
   ]
  },
  {
   "cell_type": "code",
   "execution_count": 29,
   "metadata": {
    "scrolled": false
   },
   "outputs": [
    {
     "data": {
      "text/plain": [
       "[<matplotlib.lines.Line2D at 0xcbb6c18>]"
      ]
     },
     "execution_count": 29,
     "metadata": {},
     "output_type": "execute_result"
    },
    {
     "data": {
      "image/png": "[encoded data removed]",
      "text/plain": [
       "<Figure size 432x288 with 1 Axes>"
      ]
     },
     "metadata": {
      "needs_background": "light"
     },
     "output_type": "display_data"
    }
   ],
   "source": [
    "plt.plot(Signal[359200:363300])"
   ]
  },
  {
   "cell_type": "markdown",
   "metadata": {},
   "source": [
    "## RR ИНТЕРВАЛЫ\n",
    "#### Матрица отношений RR интервалов"
   ]
  },
  {
   "cell_type": "code",
   "execution_count": null,
   "metadata": {},
   "outputs": [],
   "source": [
    "def RR_matrix(start, matrix_len):\n",
    "    RR = []\n",
    "    RR_matr = []\n",
    "    if start == 0:\n",
    "        return 'Первый QRS в 116 записи плохой и его не учитываем, выбери другую точку отсчета'\n",
    "        \n",
    "    for i in range(start, start + matrix_len):\n",
    "        RR.append(Marks[i+1] - Marks[i])\n",
    "    for i in range(matrix_len):\n",
    "        row = []\n",
    "        for j in range(matrix_len):\n",
    "            row.append(RR[i]/RR[j])\n",
    "        RR_matr.append(row)\n",
    "    return RR_matr"
   ]
  },
  {
   "cell_type": "markdown",
   "metadata": {},
   "source": [
    "#### Набор матриц RR интервалов"
   ]
  },
  {
   "cell_type": "code",
   "execution_count": null,
   "metadata": {},
   "outputs": [],
   "source": [
    "def RR_Array(window_len):\n",
    "    RR_matrix_array = []\n",
    "    for i in range(len(Marks)-window_len):\n",
    "        RR_matrix_array.append(RR_matrix(i, window_len))\n",
    "    return RR_matrix_array"
   ]
  },
  {
   "cell_type": "code",
   "execution_count": null,
   "metadata": {},
   "outputs": [],
   "source": [
    "rrr = RR_Array(6)"
   ]
  },
  {
   "cell_type": "code",
   "execution_count": null,
   "metadata": {
    "scrolled": true
   },
   "outputs": [],
   "source": [
    "df = pd.DataFrame(rrr[620])\n",
    "df"
   ]
  },
  {
   "cell_type": "code",
   "execution_count": 42,
   "metadata": {},
   "outputs": [],
   "source": [
    "def create_QRS_array(QRS_len = 100):\n",
    "    QRS = []\n",
    "    for i in Marks[1:]:\n",
    "        QRS_i = []\n",
    "        QRS_i = list(Signal[i-QRS_len : i+QRS_len])\n",
    "        QRS.append(QRS_i)\n",
    "    return QRS"
   ]
  },
  {
   "cell_type": "code",
   "execution_count": 43,
   "metadata": {},
   "outputs": [],
   "source": [
    "QRS = create_QRS_array(QRS_len = 100)"
   ]
  },
  {
   "cell_type": "code",
   "execution_count": 44,
   "metadata": {},
   "outputs": [
    {
     "data": {
      "text/plain": [
       "2.7456650641840183"
      ]
     },
     "execution_count": 44,
     "metadata": {},
     "output_type": "execute_result"
    },
    {
     "data": {
      "image/png": "[encoded data removed]",
      "text/plain": [
       "<Figure size 432x288 with 1 Axes>"
      ]
     },
     "metadata": {
      "needs_background": "light"
     },
     "output_type": "display_data"
    }
   ],
   "source": [
    "QRS_form_factor(QRS[1794], plot=True)"
   ]
  }
 ],
 "metadata": {
  "kernelspec": {
   "display_name": "Python 3",
   "language": "python",
   "name": "python3"
  },
  "language_info": {
   "codemirror_mode": {
    "name": "ipython",
    "version": 3
   },
   "file_extension": ".py",
   "mimetype": "text/x-python",
   "name": "python",
   "nbconvert_exporter": "python",
   "pygments_lexer": "ipython3",
   "version": "3.6.8"
  }
 },
 "nbformat": 4,
 "nbformat_minor": 2
}
