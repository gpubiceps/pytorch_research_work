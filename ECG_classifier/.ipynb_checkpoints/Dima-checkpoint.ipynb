{
 "cells": [
  {
   "cell_type": "code",
   "execution_count": 1,
   "metadata": {},
   "outputs": [],
   "source": [
    "import numpy as np\n",
    "import scipy.io"
   ]
  },
  {
   "cell_type": "code",
   "execution_count": 2,
   "metadata": {},
   "outputs": [],
   "source": [
    "def create_ECG(filename_ecg):\n",
    "    ECG = scipy.io.loadmat(filename_ecg) #загрузка .mat-файла\n",
    "    gain = 200\n",
    "    signal_II = ECG['val'][0,:]/gain\n",
    "    return signal_II"
   ]
  },
  {
   "cell_type": "code",
   "execution_count": 3,
   "metadata": {},
   "outputs": [],
   "source": [
    "def create_marks(filename_marks):\n",
    "    data = pd.read_csv(filename_marks, sep=\"\\t\")\n",
    "    Marks = []\n",
    "    for i in range(len(data)):\n",
    "        mark = str(data.iloc[i])\n",
    "        Marks.append(int(mark.split()[8:9][0]))\n",
    "    return Marks"
   ]
  },
  {
   "cell_type": "code",
   "execution_count": 4,
   "metadata": {},
   "outputs": [],
   "source": [
    "def create_class(filename_class):\n",
    "    data = pd.read_csv(filename_class, sep=\"\\t\")\n",
    "    Class = []\n",
    "    for i in range(len(data)):\n",
    "        Class_i = str(data.iloc[i])\n",
    "        Class.append(Class_i.split()[9:10][0])\n",
    "    return Class"
   ]
  },
  {
   "cell_type": "code",
   "execution_count": null,
   "metadata": {},
   "outputs": [],
   "source": []
  }
 ],
 "metadata": {
  "kernelspec": {
   "display_name": "Python 3",
   "language": "python",
   "name": "python3"
  },
  "language_info": {
   "codemirror_mode": {
    "name": "ipython",
    "version": 3
   },
   "file_extension": ".py",
   "mimetype": "text/x-python",
   "name": "python",
   "nbconvert_exporter": "python",
   "pygments_lexer": "ipython3",
   "version": "3.6.8"
  }
 },
 "nbformat": 4,
 "nbformat_minor": 2
}
